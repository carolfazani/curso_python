{
  "nbformat": 4,
  "nbformat_minor": 0,
  "metadata": {
    "colab": {
      "name": "Introdução ao Python.ipynb",
      "provenance": [],
      "authorship_tag": "ABX9TyNg5kej3tpdNMMH3qdZBt2I",
      "include_colab_link": true
    },
    "kernelspec": {
      "name": "python3",
      "display_name": "Python 3"
    },
    "language_info": {
      "name": "python"
    }
  },
  "cells": [
    {
      "cell_type": "markdown",
      "metadata": {
        "id": "view-in-github",
        "colab_type": "text"
      },
      "source": [
        "<a href=\"https://colab.research.google.com/github/carolfazani/curso_python/blob/master/Introdu%C3%A7%C3%A3o_ao_Python.ipynb\" target=\"_parent\"><img src=\"https://colab.research.google.com/assets/colab-badge.svg\" alt=\"Open In Colab\"/></a>"
      ]
    },
    {
      "cell_type": "code",
      "source": [
        "from time import sleep"
      ],
      "metadata": {
        "id": "hQMclNwgnaD4"
      },
      "execution_count": 51,
      "outputs": []
    },
    {
      "cell_type": "markdown",
      "source": [
        "coleções de dados em python \n",
        "As coleções permitem armazenar múltiplos itens dentro de uma única unidade, que funciona como um container."
      ],
      "metadata": {
        "id": "ytO6OG8-1dPC"
      }
    },
    {
      "cell_type": "markdown",
      "source": [
        "LISTAS"
      ],
      "metadata": {
        "id": "iZt6dDr-2uVZ"
      }
    },
    {
      "cell_type": "markdown",
      "source": [
        "Uma lista é representada pelas [], e tem seus valores separados por virgulas"
      ],
      "metadata": {
        "id": "YnKqxbwf3DRV"
      }
    },
    {
      "cell_type": "markdown",
      "source": [
        "Criando uma lista vazia:"
      ],
      "metadata": {
        "id": "y6FGkSE7_9ZD"
      }
    },
    {
      "cell_type": "code",
      "source": [
        "lista1= list()\n",
        "lista2 = [] "
      ],
      "metadata": {
        "id": "dnd9obK4AFj8"
      },
      "execution_count": 84,
      "outputs": []
    },
    {
      "cell_type": "code",
      "source": [
        "type(lista1)\n"
      ],
      "metadata": {
        "colab": {
          "base_uri": "https://localhost:8080/"
        },
        "id": "xwWTQWagALok",
        "outputId": "fe9e3bbb-d32b-4b35-add6-0db9fb7d7651"
      },
      "execution_count": 10,
      "outputs": [
        {
          "output_type": "execute_result",
          "data": {
            "text/plain": [
              "list"
            ]
          },
          "metadata": {},
          "execution_count": 10
        }
      ]
    },
    {
      "cell_type": "code",
      "source": [
        "type(lista2)"
      ],
      "metadata": {
        "colab": {
          "base_uri": "https://localhost:8080/"
        },
        "id": "1Yet-kl6AeAw",
        "outputId": "2cb55eaf-b6fc-480f-c18b-5aba134d9355"
      },
      "execution_count": 11,
      "outputs": [
        {
          "output_type": "execute_result",
          "data": {
            "text/plain": [
              "list"
            ]
          },
          "metadata": {},
          "execution_count": 11
        }
      ]
    },
    {
      "cell_type": "markdown",
      "source": [
        "criando uma lista com elementos"
      ],
      "metadata": {
        "id": "J-gPKdNIBh_8"
      }
    },
    {
      "cell_type": "code",
      "source": [
        "clientes = ['Ana', 'Júlia', 'Marcos', 'Alana', 'Carlos', 'José']\n",
        "print(clientes)"
      ],
      "metadata": {
        "colab": {
          "base_uri": "https://localhost:8080/"
        },
        "id": "hFse2vYe3MbD",
        "outputId": "52f2b257-bea2-4c42-cd75-facc988ae4fa"
      },
      "execution_count": 20,
      "outputs": [
        {
          "output_type": "stream",
          "name": "stdout",
          "text": [
            "['Ana', 'Júlia', 'Marcos', 'Alana', 'Carlos', 'José']\n"
          ]
        }
      ]
    },
    {
      "cell_type": "code",
      "source": [
        "len(clientes) #tamanho da lista"
      ],
      "metadata": {
        "colab": {
          "base_uri": "https://localhost:8080/"
        },
        "id": "7tnVVFtu3kyX",
        "outputId": "78cd8141-c125-4b75-b241-bdf845aa1063"
      },
      "execution_count": 16,
      "outputs": [
        {
          "output_type": "execute_result",
          "data": {
            "text/plain": [
              "6"
            ]
          },
          "metadata": {},
          "execution_count": 16
        }
      ]
    },
    {
      "cell_type": "code",
      "source": [
        "clientes.sort() #coloca em ordem\n",
        "print(clientes)\n"
      ],
      "metadata": {
        "colab": {
          "base_uri": "https://localhost:8080/"
        },
        "id": "LyW1lrNH3vbW",
        "outputId": "12f921d2-13e1-41b3-bb9e-e45542155695"
      },
      "execution_count": 21,
      "outputs": [
        {
          "output_type": "stream",
          "name": "stdout",
          "text": [
            "['Alana', 'Ana', 'Carlos', 'José', 'Júlia', 'Marcos']\n"
          ]
        }
      ]
    },
    {
      "cell_type": "code",
      "source": [
        "clientes.sort(reverse=True) #coloca em ordem reversa\n",
        "print(clientes)"
      ],
      "metadata": {
        "colab": {
          "base_uri": "https://localhost:8080/"
        },
        "id": "R6M5uiSI3x1r",
        "outputId": "e4119e65-2928-496e-8d4d-26c1fbc3ae4e"
      },
      "execution_count": 22,
      "outputs": [
        {
          "output_type": "stream",
          "name": "stdout",
          "text": [
            "['Marcos', 'Júlia', 'José', 'Carlos', 'Ana', 'Alana']\n"
          ]
        }
      ]
    },
    {
      "cell_type": "markdown",
      "source": [
        "Acessando elementos da lista através de indices"
      ],
      "metadata": {
        "id": "BRF5lr4CEZSj"
      }
    },
    {
      "cell_type": "code",
      "source": [
        "print(f'O indice 0 da lista é o {clientes[0]} ')"
      ],
      "metadata": {
        "colab": {
          "base_uri": "https://localhost:8080/"
        },
        "id": "S-8y29dw4hRr",
        "outputId": "8fff9779-3274-4fb8-99e9-b04fa5a7a462"
      },
      "execution_count": 24,
      "outputs": [
        {
          "output_type": "stream",
          "name": "stdout",
          "text": [
            "O indice 0 da lista é o Marcos \n"
          ]
        }
      ]
    },
    {
      "cell_type": "code",
      "source": [
        "clientes[4] = 'Ane'"
      ],
      "metadata": {
        "id": "kC6ZCnzm41HL"
      },
      "execution_count": 25,
      "outputs": []
    },
    {
      "cell_type": "code",
      "source": [
        "print(clientes)"
      ],
      "metadata": {
        "colab": {
          "base_uri": "https://localhost:8080/"
        },
        "id": "mkNifsyvFXt4",
        "outputId": "6a74bdbf-4dbe-40ae-ee08-42b6027ba054"
      },
      "execution_count": 26,
      "outputs": [
        {
          "output_type": "stream",
          "name": "stdout",
          "text": [
            "['Marcos', 'Júlia', 'José', 'Carlos', 'Ane', 'Alana']\n"
          ]
        }
      ]
    },
    {
      "cell_type": "code",
      "source": [
        "print(f'O primeiro aluno da lista é o {lista[0]} ')"
      ],
      "metadata": {
        "colab": {
          "base_uri": "https://localhost:8080/"
        },
        "id": "I8wfkfh149aF",
        "outputId": "60a71611-a203-437b-a69a-40b31a11ed2e"
      },
      "execution_count": 14,
      "outputs": [
        {
          "output_type": "stream",
          "name": "stdout",
          "text": [
            "O primeiro aluno da lista é o Ane \n"
          ]
        }
      ]
    },
    {
      "cell_type": "markdown",
      "source": [
        "ADIÇÃO DE ELEMENTOS"
      ],
      "metadata": {
        "id": "Y1c5YW3BI95l"
      }
    },
    {
      "cell_type": "code",
      "source": [
        "clientes.append('Luan') #adc no final\n",
        "print(clientes)"
      ],
      "metadata": {
        "colab": {
          "base_uri": "https://localhost:8080/"
        },
        "id": "VZql-zRn7LvG",
        "outputId": "be123639-cb35-4ce1-b3b2-d2651fe08443"
      },
      "execution_count": 29,
      "outputs": [
        {
          "output_type": "stream",
          "name": "stdout",
          "text": [
            "['Marcos', 'Júlia', 'José', 'Carlos', 'Ane', 'Alana', 'Luan']\n"
          ]
        }
      ]
    },
    {
      "cell_type": "code",
      "source": [
        "clientes.insert(3, 'Diego') #primeiro parametro: posição que o valor vai ocupar na sua lista, e o segundo parametro, é o valor em si.\n",
        "print(clientes)"
      ],
      "metadata": {
        "colab": {
          "base_uri": "https://localhost:8080/"
        },
        "id": "TtUVAv-a7T1L",
        "outputId": "3b0bb85d-d405-4783-e10c-45b2448acfd5"
      },
      "execution_count": 30,
      "outputs": [
        {
          "output_type": "stream",
          "name": "stdout",
          "text": [
            "['Marcos', 'Júlia', 'José', 'Diego', 'Carlos', 'Ane', 'Alana', 'Luan']\n"
          ]
        }
      ]
    },
    {
      "cell_type": "code",
      "source": [
        "clientes_novos = ['Maria', 'Josefa', 'Mafalda']\n"
      ],
      "metadata": {
        "id": "cQYBE9psJcVC"
      },
      "execution_count": 38,
      "outputs": []
    },
    {
      "cell_type": "code",
      "source": [
        "clientes = clientes + clientes_novos\n",
        "print(clientes)"
      ],
      "metadata": {
        "colab": {
          "base_uri": "https://localhost:8080/"
        },
        "id": "is_KUxyyJpe2",
        "outputId": "32c35d31-b82e-4db8-e86a-433095214d55"
      },
      "execution_count": 39,
      "outputs": [
        {
          "output_type": "stream",
          "name": "stdout",
          "text": [
            "['Júlia', 'José', 'Diego', 'Ane', 'Luan', 'Maria', 'Josefa', 'Mafalda']\n"
          ]
        }
      ]
    },
    {
      "cell_type": "code",
      "source": [
        "clientes += ['João']\n",
        "print(clientes)"
      ],
      "metadata": {
        "colab": {
          "base_uri": "https://localhost:8080/"
        },
        "id": "vUFh8EelJ0f0",
        "outputId": "599e5887-d3f6-4776-fe9c-80aaa21ca287"
      },
      "execution_count": 41,
      "outputs": [
        {
          "output_type": "stream",
          "name": "stdout",
          "text": [
            "['Júlia', 'José', 'Diego', 'Ane', 'Luan', 'Maria', 'Josefa', 'Mafalda', 'João']\n"
          ]
        }
      ]
    },
    {
      "cell_type": "markdown",
      "source": [
        "REMOÇÃO DE ELEMENTOS"
      ],
      "metadata": {
        "id": "AHkJ0ejbJB15"
      }
    },
    {
      "cell_type": "code",
      "source": [
        "del clientes[0]\n",
        "print(clientes)"
      ],
      "metadata": {
        "colab": {
          "base_uri": "https://localhost:8080/"
        },
        "id": "FotRrM3G7f4I",
        "outputId": "c8bfaae5-08c0-4e19-8172-8a765ea62940"
      },
      "execution_count": 31,
      "outputs": [
        {
          "output_type": "stream",
          "name": "stdout",
          "text": [
            "['Júlia', 'José', 'Diego', 'Carlos', 'Ane', 'Alana', 'Luan']\n"
          ]
        }
      ]
    },
    {
      "cell_type": "code",
      "source": [
        "clientes.pop(5) #remov o item 0\n",
        "print(clientes)"
      ],
      "metadata": {
        "colab": {
          "base_uri": "https://localhost:8080/"
        },
        "id": "6Vo8sOG28Gms",
        "outputId": "ba40e9c4-69c7-410c-c4e3-124bc066b712"
      },
      "execution_count": 32,
      "outputs": [
        {
          "output_type": "stream",
          "name": "stdout",
          "text": [
            "['Júlia', 'José', 'Diego', 'Carlos', 'Ane', 'Luan']\n"
          ]
        }
      ]
    },
    {
      "cell_type": "code",
      "source": [
        "numeros.pop()#elimina o ultimo valor\n",
        "numeros.pop(0)#elimina primeiro valor"
      ],
      "metadata": {
        "id": "6un7n95c8xgl"
      },
      "execution_count": null,
      "outputs": []
    },
    {
      "cell_type": "code",
      "source": [
        "clientes.remove('Carlos') #remove Carlos\n",
        "print(clientes)"
      ],
      "metadata": {
        "colab": {
          "base_uri": "https://localhost:8080/"
        },
        "id": "w4K9T_J88c5A",
        "outputId": "40926e90-3e5d-4856-d0df-7d7eb56db004"
      },
      "execution_count": 33,
      "outputs": [
        {
          "output_type": "stream",
          "name": "stdout",
          "text": [
            "['Júlia', 'José', 'Diego', 'Ane', 'Luan']\n"
          ]
        }
      ]
    },
    {
      "cell_type": "code",
      "source": [
        "#copiar lista\n",
        "copia = clientes[:]\n",
        "print(copia)"
      ],
      "metadata": {
        "colab": {
          "base_uri": "https://localhost:8080/"
        },
        "id": "RQux0Q_y9HvE",
        "outputId": "9473ac23-1812-42e6-f2c3-19e4398c3e7b"
      },
      "execution_count": 34,
      "outputs": [
        {
          "output_type": "stream",
          "name": "stdout",
          "text": [
            "['Júlia', 'José', 'Diego', 'Ane', 'Luan']\n"
          ]
        }
      ]
    },
    {
      "cell_type": "markdown",
      "source": [
        "FATIAMENTO DE LISTAS"
      ],
      "metadata": {
        "id": "VBrgi8AYIFvr"
      }
    },
    {
      "cell_type": "code",
      "source": [
        "clientes"
      ],
      "metadata": {
        "colab": {
          "base_uri": "https://localhost:8080/"
        },
        "id": "ujfQCFhUUpy_",
        "outputId": "4be7bae5-feea-4eb7-ac27-19ffcf9bbeb3"
      },
      "execution_count": 47,
      "outputs": [
        {
          "output_type": "execute_result",
          "data": {
            "text/plain": [
              "['Júlia', 'José', 'Diego', 'Ane', 'Luan', 'Maria', 'Josefa', 'Mafalda', 'João']"
            ]
          },
          "metadata": {},
          "execution_count": 47
        }
      ]
    },
    {
      "cell_type": "code",
      "source": [
        "clientes[0:5]"
      ],
      "metadata": {
        "colab": {
          "base_uri": "https://localhost:8080/"
        },
        "id": "m2akEp9yT-7c",
        "outputId": "be7a3582-2a52-42b8-d4a5-772c199310b7"
      },
      "execution_count": 42,
      "outputs": [
        {
          "output_type": "execute_result",
          "data": {
            "text/plain": [
              "['Júlia', 'José', 'Diego', 'Ane', 'Luan']"
            ]
          },
          "metadata": {},
          "execution_count": 42
        }
      ]
    },
    {
      "cell_type": "code",
      "source": [
        "clientes[:5]"
      ],
      "metadata": {
        "colab": {
          "base_uri": "https://localhost:8080/"
        },
        "id": "b2v2i4tUUGMl",
        "outputId": "6b6919c2-7fe3-45d3-b1a9-6a1ce9205b0d"
      },
      "execution_count": 43,
      "outputs": [
        {
          "output_type": "execute_result",
          "data": {
            "text/plain": [
              "['Júlia', 'José', 'Diego', 'Ane', 'Luan']"
            ]
          },
          "metadata": {},
          "execution_count": 43
        }
      ]
    },
    {
      "cell_type": "code",
      "source": [
        "clientes[:-1]"
      ],
      "metadata": {
        "colab": {
          "base_uri": "https://localhost:8080/"
        },
        "id": "vVgPJxH6UIVO",
        "outputId": "067008bf-8ebc-4f1b-973f-a63decf3de84"
      },
      "execution_count": 44,
      "outputs": [
        {
          "output_type": "execute_result",
          "data": {
            "text/plain": [
              "['Júlia', 'José', 'Diego', 'Ane', 'Luan', 'Maria', 'Josefa', 'Mafalda']"
            ]
          },
          "metadata": {},
          "execution_count": 44
        }
      ]
    },
    {
      "cell_type": "code",
      "source": [
        "clientes[1:3]"
      ],
      "metadata": {
        "colab": {
          "base_uri": "https://localhost:8080/"
        },
        "id": "1Cycaax1ULJi",
        "outputId": "9934df73-e274-40b6-8653-cb91fc7d8d6b"
      },
      "execution_count": 45,
      "outputs": [
        {
          "output_type": "execute_result",
          "data": {
            "text/plain": [
              "['José', 'Diego']"
            ]
          },
          "metadata": {},
          "execution_count": 45
        }
      ]
    },
    {
      "cell_type": "code",
      "source": [
        "clientes[1:4]"
      ],
      "metadata": {
        "colab": {
          "base_uri": "https://localhost:8080/"
        },
        "id": "25o7KTWHUMdq",
        "outputId": "db7b286e-f38e-42b2-82a5-9532259d5fc5"
      },
      "execution_count": 46,
      "outputs": [
        {
          "output_type": "execute_result",
          "data": {
            "text/plain": [
              "['José', 'Diego', 'Ane']"
            ]
          },
          "metadata": {},
          "execution_count": 46
        }
      ]
    },
    {
      "cell_type": "code",
      "source": [
        "clientes[3:]"
      ],
      "metadata": {
        "id": "40sblyjUUN7n"
      },
      "execution_count": null,
      "outputs": []
    },
    {
      "cell_type": "code",
      "source": [
        "clientes[:3]"
      ],
      "metadata": {
        "id": "tdeiAhTVUPfG"
      },
      "execution_count": null,
      "outputs": []
    },
    {
      "cell_type": "code",
      "source": [
        "clientes[-1]\n"
      ],
      "metadata": {
        "id": "AauUvSzkUQ6N"
      },
      "execution_count": null,
      "outputs": []
    },
    {
      "cell_type": "code",
      "source": [
        "clientes[-2]"
      ],
      "metadata": {
        "id": "-UX3AYKuUSzT"
      },
      "execution_count": null,
      "outputs": []
    },
    {
      "cell_type": "markdown",
      "source": [
        " *REVISÃO DO WHILE* "
      ],
      "metadata": {
        "id": "JzPBHVymmk_e"
      }
    },
    {
      "cell_type": "code",
      "source": [
        "x=0\n",
        "while x<len(clientes):\n",
        "  e=clientes[x]\n",
        "  print(e)\n",
        "  sleep(1)\n",
        "  x+=1"
      ],
      "metadata": {
        "colab": {
          "base_uri": "https://localhost:8080/"
        },
        "id": "OAFKmaSnoCi3",
        "outputId": "1789cb95-e3f7-4be8-963f-8c3c8b519be8"
      },
      "execution_count": 63,
      "outputs": [
        {
          "output_type": "stream",
          "name": "stdout",
          "text": [
            "Júlia\n",
            "José\n",
            "Diego\n",
            "Ane\n",
            "Luan\n",
            "Maria\n",
            "Josefa\n",
            "Mafalda\n",
            "João\n"
          ]
        }
      ]
    },
    {
      "cell_type": "markdown",
      "source": [
        "FOR Python apresenta uma estrutura de repetição especialmente projetada para\n",
        "percorrer listas. A instrução for funciona de forma parecida a while, mas a cada\n",
        "repetição utiliza um elemento diferente da lista."
      ],
      "metadata": {
        "id": "tDuKVNnkmOox"
      }
    },
    {
      "cell_type": "code",
      "source": [
        "clientes"
      ],
      "metadata": {
        "colab": {
          "base_uri": "https://localhost:8080/"
        },
        "id": "fP2J4IAKnDHl",
        "outputId": "86ef78e5-d089-44d7-e771-69f9a7e8d245"
      },
      "execution_count": 58,
      "outputs": [
        {
          "output_type": "execute_result",
          "data": {
            "text/plain": [
              "['Júlia', 'José', 'Diego', 'Ane', 'Luan', 'Maria', 'Josefa', 'Mafalda', 'João']"
            ]
          },
          "metadata": {},
          "execution_count": 58
        }
      ]
    },
    {
      "cell_type": "code",
      "source": [
        "for cliente in clientes:\n",
        "  print(cliente)\n",
        "  #sleep(1)"
      ],
      "metadata": {
        "colab": {
          "base_uri": "https://localhost:8080/"
        },
        "id": "N_cXdbS0m4hO",
        "outputId": "29eac0c1-04cf-4f23-8f97-596b8affbb0e"
      },
      "execution_count": 53,
      "outputs": [
        {
          "output_type": "stream",
          "name": "stdout",
          "text": [
            "Júlia\n",
            "José\n",
            "Diego\n",
            "Ane\n",
            "Luan\n",
            "Maria\n",
            "Josefa\n",
            "Mafalda\n",
            "João\n"
          ]
        }
      ]
    },
    {
      "cell_type": "code",
      "source": [
        "for cliente in clientes:\n",
        "  if cliente == 'José':\n",
        "    print(cliente)\n",
        "  "
      ],
      "metadata": {
        "colab": {
          "base_uri": "https://localhost:8080/"
        },
        "id": "jnqZ1qCwoJDv",
        "outputId": "c47f9816-06c8-4e1a-becd-542f0d169eff"
      },
      "execution_count": 54,
      "outputs": [
        {
          "output_type": "stream",
          "name": "stdout",
          "text": [
            "José\n"
          ]
        }
      ]
    },
    {
      "cell_type": "code",
      "source": [
        "for cliente in clientes:\n",
        "  if cliente[0] == 'J':\n",
        "    print(cliente)\n"
      ],
      "metadata": {
        "colab": {
          "base_uri": "https://localhost:8080/"
        },
        "id": "HaxjjJPxoVrX",
        "outputId": "cf2dd9ab-dfcb-4073-cba2-f92dcb2932d3"
      },
      "execution_count": 55,
      "outputs": [
        {
          "output_type": "stream",
          "name": "stdout",
          "text": [
            "Júlia\n",
            "José\n",
            "Josefa\n",
            "João\n"
          ]
        }
      ]
    },
    {
      "cell_type": "code",
      "source": [
        "jota = list()\n",
        "for cliente in clientes:\n",
        "  if cliente[0] == 'J':\n",
        "    jota.append(cliente[0])\n",
        "  else:\n",
        "    print(cliente)"
      ],
      "metadata": {
        "colab": {
          "base_uri": "https://localhost:8080/"
        },
        "id": "KMkncqowtVlD",
        "outputId": "f10c8a29-1520-454a-cea0-43cfd072010a"
      },
      "execution_count": 77,
      "outputs": [
        {
          "output_type": "stream",
          "name": "stdout",
          "text": [
            "Diego\n",
            "Ane\n",
            "Luan\n",
            "Maria\n",
            "Mafalda\n"
          ]
        }
      ]
    },
    {
      "cell_type": "markdown",
      "source": [
        "range e enumerate\n",
        "\n",
        "---\n",
        "\n"
      ],
      "metadata": {
        "id": "YJhWBDoAorjh"
      }
    },
    {
      "cell_type": "markdown",
      "source": [
        "LISTAS DENTRO DE LISTAS"
      ],
      "metadata": {
        "id": "2m5VGo4WqYnW"
      }
    },
    {
      "cell_type": "code",
      "source": [
        "estoque = [['cerveja', 50],['vinho', 35],['refrigerante', 5], ['suco', 2], ['água', 8]]\n",
        "print(estoque)"
      ],
      "metadata": {
        "colab": {
          "base_uri": "https://localhost:8080/"
        },
        "id": "PYJcoxOhqc-T",
        "outputId": "31759b85-aa10-4f8e-b329-c728bf0ccd20"
      },
      "execution_count": 66,
      "outputs": [
        {
          "output_type": "stream",
          "name": "stdout",
          "text": [
            "[['cerveja', 50], ['vinho', 35], ['refrigerante', 5], ['suco', 2], ['água', 8]]\n"
          ]
        }
      ]
    },
    {
      "cell_type": "markdown",
      "source": [
        "tuplas"
      ],
      "metadata": {
        "id": "a31VujlhvHHE"
      }
    },
    {
      "cell_type": "markdown",
      "source": [
        "dicionários"
      ],
      "metadata": {
        "id": "uM33sBY9vIBN"
      }
    },
    {
      "cell_type": "markdown",
      "source": [
        "bora praticar"
      ],
      "metadata": {
        "id": "tQM_I8h8vKZD"
      }
    }
  ]
}