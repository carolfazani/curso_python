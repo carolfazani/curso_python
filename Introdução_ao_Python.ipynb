{
  "nbformat": 4,
  "nbformat_minor": 0,
  "metadata": {
    "colab": {
      "name": "Introdução ao Python.ipynb",
      "provenance": [],
      "collapsed_sections": [
        "rFx4kafMxsSa",
        "a31VujlhvHHE"
      ],
      "authorship_tag": "ABX9TyOuk5AVRMGFndCd/Q7TpOmC",
      "include_colab_link": true
    },
    "kernelspec": {
      "name": "python3",
      "display_name": "Python 3"
    },
    "language_info": {
      "name": "python"
    }
  },
  "cells": [
    {
      "cell_type": "markdown",
      "metadata": {
        "id": "view-in-github",
        "colab_type": "text"
      },
      "source": [
        "<a href=\"https://colab.research.google.com/github/carolfazani/curso_python/blob/master/Introdu%C3%A7%C3%A3o_ao_Python.ipynb\" target=\"_parent\"><img src=\"https://colab.research.google.com/assets/colab-badge.svg\" alt=\"Open In Colab\"/></a>"
      ]
    },
    {
      "cell_type": "markdown",
      "source": [
        "###UMA PEQUENA REVISÃO"
      ],
      "metadata": {
        "id": "5MfdHCskyrNK"
      }
    },
    {
      "cell_type": "markdown",
      "source": [
        "#INTRODUÇÃO"
      ],
      "metadata": {
        "id": "jvqSX1tUxV4r"
      }
    },
    {
      "cell_type": "markdown",
      "source": [
        "Estruturas de dados em python \n",
        "As coleções permitem armazenar múltiplos itens dentro de uma única unidade, que funciona como um container."
      ],
      "metadata": {
        "id": "ytO6OG8-1dPC"
      }
    },
    {
      "cell_type": "markdown",
      "source": [
        "#LISTAS"
      ],
      "metadata": {
        "id": "iZt6dDr-2uVZ"
      }
    },
    {
      "cell_type": "markdown",
      "source": [
        "Criando uma lista vazia:"
      ],
      "metadata": {
        "id": "y6FGkSE7_9ZD"
      }
    },
    {
      "cell_type": "code",
      "source": [
        "lista1= list()\n",
        "lista2 = [] "
      ],
      "metadata": {
        "id": "dnd9obK4AFj8"
      },
      "execution_count": null,
      "outputs": []
    },
    {
      "cell_type": "code",
      "source": [
        "type(lista1)\n"
      ],
      "metadata": {
        "id": "xwWTQWagALok"
      },
      "execution_count": null,
      "outputs": []
    },
    {
      "cell_type": "code",
      "source": [
        "type(lista2)"
      ],
      "metadata": {
        "id": "1Yet-kl6AeAw"
      },
      "execution_count": null,
      "outputs": []
    },
    {
      "cell_type": "markdown",
      "source": [
        "criando uma lista com elementos"
      ],
      "metadata": {
        "id": "J-gPKdNIBh_8"
      }
    },
    {
      "cell_type": "code",
      "source": [
        "clientes = ['Ana', 'Júlia', 'Marcos', 'Alana', 'Carlos', 'José']\n",
        "print(clientes)"
      ],
      "metadata": {
        "id": "hFse2vYe3MbD"
      },
      "execution_count": null,
      "outputs": []
    },
    {
      "cell_type": "code",
      "source": [
        "len(clientes) #tamanho da lista"
      ],
      "metadata": {
        "id": "7tnVVFtu3kyX"
      },
      "execution_count": null,
      "outputs": []
    },
    {
      "cell_type": "code",
      "source": [
        "clientes.sort() #coloca em ordem\n",
        "print(clientes)\n"
      ],
      "metadata": {
        "id": "LyW1lrNH3vbW"
      },
      "execution_count": null,
      "outputs": []
    },
    {
      "cell_type": "code",
      "source": [
        "clientes.sort(reverse=True) #coloca em ordem reversa\n",
        "print(clientes)"
      ],
      "metadata": {
        "id": "R6M5uiSI3x1r"
      },
      "execution_count": null,
      "outputs": []
    },
    {
      "cell_type": "markdown",
      "source": [
        "Acessando elementos da lista através de indices"
      ],
      "metadata": {
        "id": "BRF5lr4CEZSj"
      }
    },
    {
      "cell_type": "code",
      "source": [
        "print(f'O indice 0 da lista é o {clientes[0]} ')"
      ],
      "metadata": {
        "id": "S-8y29dw4hRr"
      },
      "execution_count": null,
      "outputs": []
    },
    {
      "cell_type": "code",
      "source": [
        "clientes[4] = 'Ane'"
      ],
      "metadata": {
        "id": "kC6ZCnzm41HL"
      },
      "execution_count": null,
      "outputs": []
    },
    {
      "cell_type": "code",
      "source": [
        "print(clientes)"
      ],
      "metadata": {
        "id": "mkNifsyvFXt4"
      },
      "execution_count": null,
      "outputs": []
    },
    {
      "cell_type": "code",
      "source": [
        "print(f'O primeiro aluno da lista é o {lista[0]} ')"
      ],
      "metadata": {
        "id": "I8wfkfh149aF"
      },
      "execution_count": null,
      "outputs": []
    },
    {
      "cell_type": "markdown",
      "source": [
        "ADIÇÃO DE ELEMENTOS"
      ],
      "metadata": {
        "id": "Y1c5YW3BI95l"
      }
    },
    {
      "cell_type": "code",
      "source": [
        "clientes.append('Luan') #adc no final\n",
        "print(clientes)"
      ],
      "metadata": {
        "id": "VZql-zRn7LvG"
      },
      "execution_count": null,
      "outputs": []
    },
    {
      "cell_type": "code",
      "source": [
        "clientes.insert(3, 'Diego') #primeiro parametro: posição que o valor vai ocupar na sua lista, e o segundo parametro, é o valor em si.\n",
        "print(clientes)"
      ],
      "metadata": {
        "id": "TtUVAv-a7T1L"
      },
      "execution_count": null,
      "outputs": []
    },
    {
      "cell_type": "code",
      "source": [
        "clientes_novos = ['Maria', 'Josefa', 'Mafalda']\n"
      ],
      "metadata": {
        "id": "cQYBE9psJcVC"
      },
      "execution_count": null,
      "outputs": []
    },
    {
      "cell_type": "code",
      "source": [
        "clientes = clientes + clientes_novos\n",
        "print(clientes)"
      ],
      "metadata": {
        "id": "is_KUxyyJpe2"
      },
      "execution_count": null,
      "outputs": []
    },
    {
      "cell_type": "code",
      "source": [
        "clientes += ['João']\n",
        "print(clientes)"
      ],
      "metadata": {
        "id": "vUFh8EelJ0f0"
      },
      "execution_count": null,
      "outputs": []
    },
    {
      "cell_type": "markdown",
      "source": [
        "REMOÇÃO DE ELEMENTOS"
      ],
      "metadata": {
        "id": "AHkJ0ejbJB15"
      }
    },
    {
      "cell_type": "code",
      "source": [
        "del clientes[0]\n",
        "print(clientes)"
      ],
      "metadata": {
        "id": "FotRrM3G7f4I"
      },
      "execution_count": null,
      "outputs": []
    },
    {
      "cell_type": "code",
      "source": [
        "clientes.pop(5) #remov o item 0\n",
        "print(clientes)"
      ],
      "metadata": {
        "id": "6Vo8sOG28Gms"
      },
      "execution_count": null,
      "outputs": []
    },
    {
      "cell_type": "code",
      "source": [
        "numeros.pop()#elimina o ultimo valor\n",
        "numeros.pop(0)#elimina primeiro valor"
      ],
      "metadata": {
        "id": "6un7n95c8xgl"
      },
      "execution_count": null,
      "outputs": []
    },
    {
      "cell_type": "code",
      "source": [
        "clientes.remove('Carlos') #remove Carlos\n",
        "print(clientes)"
      ],
      "metadata": {
        "id": "w4K9T_J88c5A"
      },
      "execution_count": null,
      "outputs": []
    },
    {
      "cell_type": "code",
      "source": [
        "#copiar lista\n",
        "copia = clientes[:]\n",
        "print(copia)"
      ],
      "metadata": {
        "id": "RQux0Q_y9HvE"
      },
      "execution_count": null,
      "outputs": []
    },
    {
      "cell_type": "markdown",
      "source": [
        "FATIAMENTO DE LISTAS"
      ],
      "metadata": {
        "id": "VBrgi8AYIFvr"
      }
    },
    {
      "cell_type": "code",
      "source": [
        "clientes"
      ],
      "metadata": {
        "id": "ujfQCFhUUpy_"
      },
      "execution_count": null,
      "outputs": []
    },
    {
      "cell_type": "code",
      "source": [
        "clientes[0:5]"
      ],
      "metadata": {
        "id": "m2akEp9yT-7c"
      },
      "execution_count": null,
      "outputs": []
    },
    {
      "cell_type": "code",
      "source": [
        "clientes[:5]"
      ],
      "metadata": {
        "id": "b2v2i4tUUGMl"
      },
      "execution_count": null,
      "outputs": []
    },
    {
      "cell_type": "code",
      "source": [
        "clientes[:-1]"
      ],
      "metadata": {
        "id": "vVgPJxH6UIVO"
      },
      "execution_count": null,
      "outputs": []
    },
    {
      "cell_type": "code",
      "source": [
        "clientes[1:3]"
      ],
      "metadata": {
        "id": "1Cycaax1ULJi"
      },
      "execution_count": null,
      "outputs": []
    },
    {
      "cell_type": "code",
      "source": [
        "clientes[1:4]"
      ],
      "metadata": {
        "id": "25o7KTWHUMdq"
      },
      "execution_count": null,
      "outputs": []
    },
    {
      "cell_type": "code",
      "source": [
        "clientes[3:]"
      ],
      "metadata": {
        "id": "40sblyjUUN7n"
      },
      "execution_count": null,
      "outputs": []
    },
    {
      "cell_type": "code",
      "source": [
        "clientes[:3]"
      ],
      "metadata": {
        "id": "tdeiAhTVUPfG"
      },
      "execution_count": null,
      "outputs": []
    },
    {
      "cell_type": "code",
      "source": [
        "clientes[-1]\n"
      ],
      "metadata": {
        "id": "AauUvSzkUQ6N"
      },
      "execution_count": null,
      "outputs": []
    },
    {
      "cell_type": "code",
      "source": [
        "clientes[-2]"
      ],
      "metadata": {
        "id": "-UX3AYKuUSzT"
      },
      "execution_count": null,
      "outputs": []
    },
    {
      "cell_type": "markdown",
      "source": [
        "LISTAS DENTRO DE LISTAS"
      ],
      "metadata": {
        "id": "2m5VGo4WqYnW"
      }
    },
    {
      "cell_type": "code",
      "source": [
        "estoque = [['cerveja', 50],['vinho', 35],['refrigerante', 5], ['suco', 2], ['água', 8]]\n",
        "print(estoque)"
      ],
      "metadata": {
        "id": "PYJcoxOhqc-T"
      },
      "execution_count": null,
      "outputs": []
    },
    {
      "cell_type": "markdown",
      "source": [
        "##estruturas de repetição\n"
      ],
      "metadata": {
        "id": "rFx4kafMxsSa"
      }
    },
    {
      "cell_type": "markdown",
      "source": [
        " *REVISÃO DO WHILE* "
      ],
      "metadata": {
        "id": "JzPBHVymmk_e"
      }
    },
    {
      "cell_type": "code",
      "source": [
        "from time import sleep"
      ],
      "metadata": {
        "id": "hQMclNwgnaD4"
      },
      "execution_count": null,
      "outputs": []
    },
    {
      "cell_type": "code",
      "source": [
        "#x é um contador que vai aumentando de valor a cada loop\n",
        "x=0\n",
        "while x<len(clientes):\n",
        "  cliente=clientes[x]\n",
        "  print(cliente)\n",
        "  sleep(1)\n",
        "  x+=1"
      ],
      "metadata": {
        "id": "OAFKmaSnoCi3"
      },
      "execution_count": null,
      "outputs": []
    },
    {
      "cell_type": "markdown",
      "source": [
        "FOR Python apresenta uma estrutura de repetição especialmente projetada para\n",
        "percorrer listas. A instrução for funciona de forma parecida a while, mas a cada\n",
        "repetição utiliza um elemento diferente da lista."
      ],
      "metadata": {
        "id": "tDuKVNnkmOox"
      }
    },
    {
      "cell_type": "code",
      "source": [
        "clientes"
      ],
      "metadata": {
        "colab": {
          "base_uri": "https://localhost:8080/",
          "height": 174
        },
        "id": "fP2J4IAKnDHl",
        "outputId": "4a358c51-a37a-4980-b674-ca3ecf90f6a2"
      },
      "execution_count": null,
      "outputs": [
        {
          "output_type": "error",
          "ename": "NameError",
          "evalue": "ignored",
          "traceback": [
            "\u001b[0;31m---------------------------------------------------------------------------\u001b[0m",
            "\u001b[0;31mNameError\u001b[0m                                 Traceback (most recent call last)",
            "\u001b[0;32m<ipython-input-2-7e486e3fa70d>\u001b[0m in \u001b[0;36m<module>\u001b[0;34m()\u001b[0m\n\u001b[0;32m----> 1\u001b[0;31m \u001b[0mclientes\u001b[0m\u001b[0;34m\u001b[0m\u001b[0;34m\u001b[0m\u001b[0m\n\u001b[0m",
            "\u001b[0;31mNameError\u001b[0m: name 'clientes' is not defined"
          ]
        }
      ]
    },
    {
      "cell_type": "code",
      "source": [
        "for cliente in clientes:\n",
        "  print(cliente)\n",
        "  #sleep(1)"
      ],
      "metadata": {
        "id": "N_cXdbS0m4hO"
      },
      "execution_count": null,
      "outputs": []
    },
    {
      "cell_type": "code",
      "source": [
        "\n",
        "for cliente in clientes:\n",
        "  if cliente == 'José':\n",
        "    print(cliente)\n",
        "  "
      ],
      "metadata": {
        "id": "jnqZ1qCwoJDv"
      },
      "execution_count": null,
      "outputs": []
    },
    {
      "cell_type": "code",
      "source": [
        "for cliente in clientes:\n",
        "  if cliente[0] == 'J':\n",
        "    print(cliente)\n"
      ],
      "metadata": {
        "colab": {
          "base_uri": "https://localhost:8080/",
          "height": 211
        },
        "id": "HaxjjJPxoVrX",
        "outputId": "d3ead870-9784-4618-feac-2dbf5a5d64e4"
      },
      "execution_count": null,
      "outputs": [
        {
          "output_type": "error",
          "ename": "NameError",
          "evalue": "ignored",
          "traceback": [
            "\u001b[0;31m---------------------------------------------------------------------------\u001b[0m",
            "\u001b[0;31mNameError\u001b[0m                                 Traceback (most recent call last)",
            "\u001b[0;32m<ipython-input-1-90e0ab3d4f47>\u001b[0m in \u001b[0;36m<module>\u001b[0;34m()\u001b[0m\n\u001b[0;32m----> 1\u001b[0;31m \u001b[0;32mfor\u001b[0m \u001b[0mcliente\u001b[0m \u001b[0;32min\u001b[0m \u001b[0mclientes\u001b[0m\u001b[0;34m:\u001b[0m\u001b[0;34m\u001b[0m\u001b[0;34m\u001b[0m\u001b[0m\n\u001b[0m\u001b[1;32m      2\u001b[0m   \u001b[0;32mif\u001b[0m \u001b[0mcliente\u001b[0m\u001b[0;34m[\u001b[0m\u001b[0;36m0\u001b[0m\u001b[0;34m]\u001b[0m \u001b[0;34m==\u001b[0m \u001b[0;34m'J'\u001b[0m\u001b[0;34m:\u001b[0m\u001b[0;34m\u001b[0m\u001b[0;34m\u001b[0m\u001b[0m\n\u001b[1;32m      3\u001b[0m     \u001b[0mprint\u001b[0m\u001b[0;34m(\u001b[0m\u001b[0mcliente\u001b[0m\u001b[0;34m)\u001b[0m\u001b[0;34m\u001b[0m\u001b[0;34m\u001b[0m\u001b[0m\n",
            "\u001b[0;31mNameError\u001b[0m: name 'clientes' is not defined"
          ]
        }
      ]
    },
    {
      "cell_type": "code",
      "source": [
        "jota = list()\n",
        "for cliente in clientes:\n",
        "  if cliente[0] == 'J':\n",
        "    jota.append(cliente[0])\n"
      ],
      "metadata": {
        "id": "KMkncqowtVlD"
      },
      "execution_count": null,
      "outputs": []
    },
    {
      "cell_type": "markdown",
      "source": [
        "range e enumerate\n",
        "\n",
        "---\n",
        "\n"
      ],
      "metadata": {
        "id": "YJhWBDoAorjh"
      }
    },
    {
      "cell_type": "markdown",
      "source": [
        "#TUPLAS"
      ],
      "metadata": {
        "id": "a31VujlhvHHE"
      }
    },
    {
      "cell_type": "markdown",
      "source": [
        "#DICIONÁRIOS"
      ],
      "metadata": {
        "id": "uM33sBY9vIBN"
      }
    },
    {
      "cell_type": "code",
      "source": [
        ""
      ],
      "metadata": {
        "id": "2rdsXd5p0na5"
      },
      "execution_count": null,
      "outputs": []
    },
    {
      "cell_type": "markdown",
      "source": [
        "###ONDE APRENDER PYTHON DE GRAÇA?"
      ],
      "metadata": {
        "id": "tQM_I8h8vKZD"
      }
    },
    {
      "cell_type": "markdown",
      "source": [
        " - curso em vídeo https://www.youtube.com/watch?v=S9uPNppGsGo\n",
        " -DSA academy https://www.datascienceacademy.com.br/course/python-fundamentos\n",
        "\n",
        "-#DICA BONUS\n",
        " - conheça o stackoverflow https://stackoverflow.com/"
      ],
      "metadata": {
        "id": "H6HaFUSez0mi"
      }
    }
  ]
}